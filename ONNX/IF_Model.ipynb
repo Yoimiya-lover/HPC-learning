{
 "cells": [
  {
   "cell_type": "code",
   "execution_count": 1,
   "metadata": {},
   "outputs": [],
   "source": [
    "import numpy as np\n",
    "import onnx\n",
    "from onnx.helper import(\n",
    "    make_node,make_graph,make_model,make_tensor_value_info\n",
    ")\n",
    "from onnx.numpy_helper import from_array\n",
    "from onnx.checker import check_model\n",
    "from onnxruntime import InferenceSession"
   ]
  },
  {
   "cell_type": "markdown",
   "metadata": {},
   "source": [
    "from_array:将数组转为ONNX的Tensor"
   ]
  },
  {
   "cell_type": "code",
   "execution_count": 2,
   "metadata": {},
   "outputs": [],
   "source": [
    "value = np.array([0],dtype=np.float32)\n",
    "zero = from_array(value,name='zero')"
   ]
  },
  {
   "cell_type": "markdown",
   "metadata": {},
   "source": [
    "创建tensor张量\n"
   ]
  },
  {
   "cell_type": "code",
   "execution_count": 3,
   "metadata": {},
   "outputs": [],
   "source": [
    "X = make_tensor_value_info('X',onnx.TensorProto.FLOAT,[None,None])\n",
    "Y = make_tensor_value_info('Y',onnx.TensorProto.FLOAT,[None,None])"
   ]
  },
  {
   "cell_type": "markdown",
   "metadata": {},
   "source": [
    "make_node:创建算子,rsum求和，cond为布尔值，用于输出和0比较的大小的结果"
   ]
  },
  {
   "cell_type": "code",
   "execution_count": 4,
   "metadata": {},
   "outputs": [],
   "source": [
    "rsum = make_node('ReduceSum',['X'],['rsum'])\n",
    "cond = make_node('Greater',['rsum','zero'],['cond'])"
   ]
  },
  {
   "cell_type": "markdown",
   "metadata": {},
   "source": [
    "创建一个张量：make_tensor_value_info(name, elem_type, shape)\n"
   ]
  },
  {
   "cell_type": "code",
   "execution_count": 5,
   "metadata": {},
   "outputs": [],
   "source": [
    "then_out = make_tensor_value_info('then_out',onnx.TensorProto.FLOAT,None)\n",
    "then_cst = from_array(np.array([1]).astype(np.float32))"
   ]
  },
  {
   "cell_type": "markdown",
   "metadata": {},
   "source": [
    "定义一个常量节点，无输入，但有输出'then_out'"
   ]
  },
  {
   "cell_type": "code",
   "execution_count": 6,
   "metadata": {},
   "outputs": [],
   "source": [
    "then_const_node = make_node(\n",
    "    'Constant', inputs=[],\n",
    "    outputs=['then_out'],\n",
    "    value=then_cst, name='cst1')"
   ]
  },
  {
   "cell_type": "markdown",
   "metadata": {},
   "source": [
    "make_graph(  \n",
    "    nodes,                 # 节点列表，包含了计算图中的所有节点  \n",
    "    name,                  # 计算图的名称  \n",
    "    inputs,                # 输入张量的列表  \n",
    "    outputs,               # 输出张量的列表  \n",
    "    initializer=None,      # （可选）初始化张量的列表，通常是常量张量  \n",
    "    value_info=None,       # （可选）张量的描述信息列表，用于定义输入输出张量的详细信息  \n",
    "    doc_string=None        # （可选）图的描述字符串  \n",
    ")  "
   ]
  },
  {
   "cell_type": "code",
   "execution_count": 7,
   "metadata": {},
   "outputs": [],
   "source": [
    "then_body = make_graph(\n",
    "    [then_const_node],'then_body',[],[then_out]\n",
    ")"
   ]
  },
  {
   "cell_type": "code",
   "execution_count": 8,
   "metadata": {},
   "outputs": [],
   "source": [
    "else_out = make_tensor_value_info(\n",
    "    \"else_out\",onnx.TensorProto.FLOAT, [5])\n",
    "else_cst = from_array(np.array([-1]).astype(np.float32))\n",
    "\n",
    "else_const_node = make_node(\n",
    "    'Constant',inputs=[],\n",
    "    outputs=['else_out'],\n",
    "    value=else_cst,name='cst2')\n",
    "\n",
    "else_body = make_graph(\n",
    "    [else_const_node],'else_body',\n",
    "    [],[else_out])"
   ]
  },
  {
   "cell_type": "markdown",
   "metadata": {},
   "source": [
    "onnx.helper.make_node(\n",
    "    op_type,                # 运算类型（算子名称）\n",
    "    inputs,                 # 输入张量的名称列表\n",
    "    outputs,                # 输出张量的名称列表\n",
    "    name=None,              # 节点的名称（可选）\n",
    "    domain=None,            # 计算域（可选），通常用于自定义算子\n",
    "    attributes=None,        # 节点的属性（可选）\n",
    "    op_version=None,        # 操作版本（可选）\n",
    "    doc_string=None         # 节点的文档描述（可选）\n",
    ")\n"
   ]
  },
  {
   "cell_type": "code",
   "execution_count": 9,
   "metadata": {},
   "outputs": [],
   "source": [
    "if_node = onnx.helper.make_node(\n",
    "    'If',['cond'],['Y'],\n",
    "    then_branch=then_body,\n",
    "    else_branch=else_body)"
   ]
  },
  {
   "cell_type": "code",
   "execution_count": 10,
   "metadata": {},
   "outputs": [],
   "source": [
    "graph = make_graph([rsum,cond,if_node],'if',[X],[Y],[zero])\n",
    "onnx_model = make_model(graph)\n",
    "check_model(onnx_model)"
   ]
  },
  {
   "cell_type": "code",
   "execution_count": 11,
   "metadata": {},
   "outputs": [
    {
     "name": "stderr",
     "output_type": "stream",
     "text": [
      "/root/anaconda3/envs/onnx/lib/python3.12/site-packages/onnxruntime/capi/onnxruntime_inference_collection.py:118: UserWarning: Specified provider 'CUDAExecutionProvider' is not in available provider names.Available providers: 'AzureExecutionProvider, CPUExecutionProvider'\n",
      "  warnings.warn(\n"
     ]
    },
    {
     "name": "stdout",
     "output_type": "stream",
     "text": [
      "result [array([1.], dtype=float32)]\n",
      "\n",
      "ir_version: 10\n",
      "graph {\n",
      "  node {\n",
      "    input: \"X\"\n",
      "    output: \"rsum\"\n",
      "    op_type: \"ReduceSum\"\n",
      "  }\n",
      "  node {\n",
      "    input: \"rsum\"\n",
      "    input: \"zero\"\n",
      "    output: \"cond\"\n",
      "    op_type: \"Greater\"\n",
      "  }\n",
      "  node {\n",
      "    input: \"cond\"\n",
      "    output: \"Y\"\n",
      "    op_type: \"If\"\n",
      "    attribute {\n",
      "      name: \"else_branch\"\n",
      "      g {\n",
      "        node {\n",
      "          output: \"else_out\"\n",
      "          name: \"cst2\"\n",
      "          op_type: \"Constant\"\n",
      "          attribute {\n",
      "            name: \"value\"\n",
      "            t {\n",
      "              dims: 1\n",
      "              data_type: 1\n",
      "              raw_data: \"\\000\\000\\200\\277\"\n",
      "            }\n",
      "            type: TENSOR\n",
      "          }\n",
      "        }\n",
      "        name: \"else_body\"\n",
      "        output {\n",
      "          name: \"else_out\"\n",
      "          type {\n",
      "            tensor_type {\n",
      "              elem_type: 1\n",
      "              shape {\n",
      "                dim {\n",
      "                  dim_value: 5\n",
      "                }\n",
      "              }\n",
      "            }\n",
      "          }\n",
      "        }\n",
      "      }\n",
      "      type: GRAPH\n",
      "    }\n",
      "    attribute {\n",
      "      name: \"then_branch\"\n",
      "      g {\n",
      "        node {\n",
      "          output: \"then_out\"\n",
      "          name: \"cst1\"\n",
      "          op_type: \"Constant\"\n",
      "          attribute {\n",
      "            name: \"value\"\n",
      "            t {\n",
      "              dims: 1\n",
      "              data_type: 1\n",
      "              raw_data: \"\\000\\000\\200?\"\n",
      "            }\n",
      "            type: TENSOR\n",
      "          }\n",
      "        }\n",
      "        name: \"then_body\"\n",
      "        output {\n",
      "          name: \"then_out\"\n",
      "          type {\n",
      "            tensor_type {\n",
      "              elem_type: 1\n",
      "            }\n",
      "          }\n",
      "        }\n",
      "      }\n",
      "      type: GRAPH\n",
      "    }\n",
      "  }\n",
      "  name: \"if\"\n",
      "  initializer {\n",
      "    dims: 1\n",
      "    data_type: 1\n",
      "    name: \"zero\"\n",
      "    raw_data: \"\\000\\000\\000\\000\"\n",
      "  }\n",
      "  input {\n",
      "    name: \"X\"\n",
      "    type {\n",
      "      tensor_type {\n",
      "        elem_type: 1\n",
      "        shape {\n",
      "          dim {\n",
      "          }\n",
      "          dim {\n",
      "          }\n",
      "        }\n",
      "      }\n",
      "    }\n",
      "  }\n",
      "  output {\n",
      "    name: \"Y\"\n",
      "    type {\n",
      "      tensor_type {\n",
      "        elem_type: 1\n",
      "        shape {\n",
      "          dim {\n",
      "          }\n",
      "          dim {\n",
      "          }\n",
      "        }\n",
      "      }\n",
      "    }\n",
      "  }\n",
      "}\n",
      "opset_import {\n",
      "  version: 22\n",
      "}\n",
      "\n"
     ]
    },
    {
     "name": "stderr",
     "output_type": "stream",
     "text": [
      "\u001b[0;93m2025-03-31 11:41:24.506028429 [W:onnxruntime:, graph.cc:113 MergeShapeInfo] Error merging shape info for output. 'Y' source:{1} target:{-1,-1}. Falling back to lenient merge.\u001b[m\n"
     ]
    }
   ],
   "source": [
    "with open(\"onnx_if_sign.onnx\",\"wb\") as f:\n",
    "    f.write(onnx_model.SerializeToString())\n",
    "    \n",
    "sess = InferenceSession(onnx_model.SerializePartialToString(),providers=['CUDAExecutionProvider'])\n",
    "\n",
    "x = np.ones((3,2),dtype=np.float32)\n",
    "res = sess.run(None,{'X':x})\n",
    "\n",
    "print(\"result\", res)\n",
    "print()\n",
    "\n",
    "print(onnx_model)"
   ]
  }
 ],
 "metadata": {
  "kernelspec": {
   "display_name": "onnx",
   "language": "python",
   "name": "python3"
  },
  "language_info": {
   "codemirror_mode": {
    "name": "ipython",
    "version": 3
   },
   "file_extension": ".py",
   "mimetype": "text/x-python",
   "name": "python",
   "nbconvert_exporter": "python",
   "pygments_lexer": "ipython3",
   "version": "3.12.9"
  }
 },
 "nbformat": 4,
 "nbformat_minor": 2
}
